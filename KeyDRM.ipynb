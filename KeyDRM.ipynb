{
 "cells": [
  {
   "cell_type": "code",
   "execution_count": 1,
   "id": "initial_id",
   "metadata": {
    "collapsed": true,
    "ExecuteTime": {
     "end_time": "2024-04-02T15:22:44.525922Z",
     "start_time": "2024-04-02T15:22:43.948829Z"
    }
   },
   "outputs": [],
   "source": [
    "import pandas as pd"
   ]
  },
  {
   "cell_type": "code",
   "outputs": [
    {
     "data": {
      "text/plain": "         customerid               mac             created_date\n0             39082      001D20A8F005  2011-08-22 17:34:40.547\n1             39083      64680C248F4C  2011-08-22 18:25:58.470\n2             39084      64680C30D3C8  2011-08-22 18:46:14.983\n3             39085      001D20A8F0F9  2011-08-22 18:53:49.560\n4             39086      64680C24948D  2011-08-22 20:57:58.907\n...             ...               ...                      ...\n2772332     2710997  FBOX8CC84B000015  2020-04-16 09:27:10.580\n2772333     2711049  FBOX8CC84B000016  2020-04-16 09:40:59.917\n2772334     2723201  FBOXb84deed15fb1  2020-04-22 11:18:03.107\n2772335     2733268  FBOX8CC84B000007  2020-04-28 10:22:18.913\n2772336     2753215  FBOX02E7F9ABE977  2020-05-11 08:50:21.117\n\n[2772337 rows x 3 columns]",
      "text/html": "<div>\n<style scoped>\n    .dataframe tbody tr th:only-of-type {\n        vertical-align: middle;\n    }\n\n    .dataframe tbody tr th {\n        vertical-align: top;\n    }\n\n    .dataframe thead th {\n        text-align: right;\n    }\n</style>\n<table border=\"1\" class=\"dataframe\">\n  <thead>\n    <tr style=\"text-align: right;\">\n      <th></th>\n      <th>customerid</th>\n      <th>mac</th>\n      <th>created_date</th>\n    </tr>\n  </thead>\n  <tbody>\n    <tr>\n      <th>0</th>\n      <td>39082</td>\n      <td>001D20A8F005</td>\n      <td>2011-08-22 17:34:40.547</td>\n    </tr>\n    <tr>\n      <th>1</th>\n      <td>39083</td>\n      <td>64680C248F4C</td>\n      <td>2011-08-22 18:25:58.470</td>\n    </tr>\n    <tr>\n      <th>2</th>\n      <td>39084</td>\n      <td>64680C30D3C8</td>\n      <td>2011-08-22 18:46:14.983</td>\n    </tr>\n    <tr>\n      <th>3</th>\n      <td>39085</td>\n      <td>001D20A8F0F9</td>\n      <td>2011-08-22 18:53:49.560</td>\n    </tr>\n    <tr>\n      <th>4</th>\n      <td>39086</td>\n      <td>64680C24948D</td>\n      <td>2011-08-22 20:57:58.907</td>\n    </tr>\n    <tr>\n      <th>...</th>\n      <td>...</td>\n      <td>...</td>\n      <td>...</td>\n    </tr>\n    <tr>\n      <th>2772332</th>\n      <td>2710997</td>\n      <td>FBOX8CC84B000015</td>\n      <td>2020-04-16 09:27:10.580</td>\n    </tr>\n    <tr>\n      <th>2772333</th>\n      <td>2711049</td>\n      <td>FBOX8CC84B000016</td>\n      <td>2020-04-16 09:40:59.917</td>\n    </tr>\n    <tr>\n      <th>2772334</th>\n      <td>2723201</td>\n      <td>FBOXb84deed15fb1</td>\n      <td>2020-04-22 11:18:03.107</td>\n    </tr>\n    <tr>\n      <th>2772335</th>\n      <td>2733268</td>\n      <td>FBOX8CC84B000007</td>\n      <td>2020-04-28 10:22:18.913</td>\n    </tr>\n    <tr>\n      <th>2772336</th>\n      <td>2753215</td>\n      <td>FBOX02E7F9ABE977</td>\n      <td>2020-05-11 08:50:21.117</td>\n    </tr>\n  </tbody>\n</table>\n<p>2772337 rows × 3 columns</p>\n</div>"
     },
     "execution_count": 2,
     "metadata": {},
     "output_type": "execute_result"
    }
   ],
   "source": [
    "customers = pd.read_csv(\"C:\\Bi\\Win Backup\\LongDA\\Lvl1\\Class4 KeyDRM Project\\Customers.csv\")\n",
    "customers"
   ],
   "metadata": {
    "collapsed": false,
    "ExecuteTime": {
     "end_time": "2024-04-02T15:22:48.907452Z",
     "start_time": "2024-04-02T15:22:45.855218Z"
    }
   },
   "id": "6a465244fde90e1f",
   "execution_count": 2
  },
  {
   "cell_type": "code",
   "outputs": [
    {
     "name": "stderr",
     "output_type": "stream",
     "text": [
      "C:\\Users\\duytm\\AppData\\Local\\Temp\\ipykernel_22236\\4246489975.py:2: SettingWithCopyWarning: \n",
      "A value is trying to be set on a copy of a slice from a DataFrame\n",
      "\n",
      "See the caveats in the documentation: https://pandas.pydata.org/pandas-docs/stable/user_guide/indexing.html#returning-a-view-versus-a-copy\n",
      "  customers.rename(columns={'customerid': 'CustomerID','created_date':'Date'},inplace = True)\n",
      "C:\\Users\\duytm\\AppData\\Local\\Temp\\ipykernel_22236\\4246489975.py:3: SettingWithCopyWarning: \n",
      "A value is trying to be set on a copy of a slice from a DataFrame.\n",
      "Try using .loc[row_indexer,col_indexer] = value instead\n",
      "\n",
      "See the caveats in the documentation: https://pandas.pydata.org/pandas-docs/stable/user_guide/indexing.html#returning-a-view-versus-a-copy\n",
      "  customers['Date'] = pd.to_datetime(customers['Date']).dt.strftime('%Y-%m-%d')\n",
      "C:\\Users\\duytm\\AppData\\Local\\Temp\\ipykernel_22236\\4246489975.py:4: SettingWithCopyWarning: \n",
      "A value is trying to be set on a copy of a slice from a DataFrame.\n",
      "Try using .loc[row_indexer,col_indexer] = value instead\n",
      "\n",
      "See the caveats in the documentation: https://pandas.pydata.org/pandas-docs/stable/user_guide/indexing.html#returning-a-view-versus-a-copy\n",
      "  customers['Date'] = pd.to_datetime(customers['Date'])\n",
      "C:\\Users\\duytm\\AppData\\Local\\Temp\\ipykernel_22236\\4246489975.py:5: SettingWithCopyWarning: \n",
      "A value is trying to be set on a copy of a slice from a DataFrame.\n",
      "Try using .loc[row_indexer,col_indexer] = value instead\n",
      "\n",
      "See the caveats in the documentation: https://pandas.pydata.org/pandas-docs/stable/user_guide/indexing.html#returning-a-view-versus-a-copy\n",
      "  customers['CustomerID'] = customers['CustomerID'].astype(str)\n"
     ]
    },
    {
     "data": {
      "text/plain": "        CustomerID               mac       Date\n0            39082      001D20A8F005 2011-08-22\n1            39083      64680C248F4C 2011-08-22\n2            39084      64680C30D3C8 2011-08-22\n3            39085      001D20A8F0F9 2011-08-22\n4            39086      64680C24948D 2011-08-22\n...            ...               ...        ...\n2772332    2710997  FBOX8CC84B000015 2020-04-16\n2772333    2711049  FBOX8CC84B000016 2020-04-16\n2772334    2723201  FBOXb84deed15fb1 2020-04-22\n2772335    2733268  FBOX8CC84B000007 2020-04-28\n2772336    2753215  FBOX02E7F9ABE977 2020-05-11\n\n[2772336 rows x 3 columns]",
      "text/html": "<div>\n<style scoped>\n    .dataframe tbody tr th:only-of-type {\n        vertical-align: middle;\n    }\n\n    .dataframe tbody tr th {\n        vertical-align: top;\n    }\n\n    .dataframe thead th {\n        text-align: right;\n    }\n</style>\n<table border=\"1\" class=\"dataframe\">\n  <thead>\n    <tr style=\"text-align: right;\">\n      <th></th>\n      <th>CustomerID</th>\n      <th>mac</th>\n      <th>Date</th>\n    </tr>\n  </thead>\n  <tbody>\n    <tr>\n      <th>0</th>\n      <td>39082</td>\n      <td>001D20A8F005</td>\n      <td>2011-08-22</td>\n    </tr>\n    <tr>\n      <th>1</th>\n      <td>39083</td>\n      <td>64680C248F4C</td>\n      <td>2011-08-22</td>\n    </tr>\n    <tr>\n      <th>2</th>\n      <td>39084</td>\n      <td>64680C30D3C8</td>\n      <td>2011-08-22</td>\n    </tr>\n    <tr>\n      <th>3</th>\n      <td>39085</td>\n      <td>001D20A8F0F9</td>\n      <td>2011-08-22</td>\n    </tr>\n    <tr>\n      <th>4</th>\n      <td>39086</td>\n      <td>64680C24948D</td>\n      <td>2011-08-22</td>\n    </tr>\n    <tr>\n      <th>...</th>\n      <td>...</td>\n      <td>...</td>\n      <td>...</td>\n    </tr>\n    <tr>\n      <th>2772332</th>\n      <td>2710997</td>\n      <td>FBOX8CC84B000015</td>\n      <td>2020-04-16</td>\n    </tr>\n    <tr>\n      <th>2772333</th>\n      <td>2711049</td>\n      <td>FBOX8CC84B000016</td>\n      <td>2020-04-16</td>\n    </tr>\n    <tr>\n      <th>2772334</th>\n      <td>2723201</td>\n      <td>FBOXb84deed15fb1</td>\n      <td>2020-04-22</td>\n    </tr>\n    <tr>\n      <th>2772335</th>\n      <td>2733268</td>\n      <td>FBOX8CC84B000007</td>\n      <td>2020-04-28</td>\n    </tr>\n    <tr>\n      <th>2772336</th>\n      <td>2753215</td>\n      <td>FBOX02E7F9ABE977</td>\n      <td>2020-05-11</td>\n    </tr>\n  </tbody>\n</table>\n<p>2772336 rows × 3 columns</p>\n</div>"
     },
     "execution_count": 3,
     "metadata": {},
     "output_type": "execute_result"
    }
   ],
   "source": [
    "customers = customers.dropna()\n",
    "customers.rename(columns={'customerid': 'CustomerID','created_date':'Date'},inplace = True)\n",
    "customers['Date'] = pd.to_datetime(customers['Date']).dt.strftime('%Y-%m-%d')\n",
    "customers['Date'] = pd.to_datetime(customers['Date'])\n",
    "customers['CustomerID'] = customers['CustomerID'].astype(str)\n",
    "customers"
   ],
   "metadata": {
    "collapsed": false,
    "ExecuteTime": {
     "end_time": "2024-04-02T15:23:24.663572Z",
     "start_time": "2024-04-02T15:23:19.052789Z"
    }
   },
   "id": "ef2667ceb5909194",
   "execution_count": 3
  },
  {
   "cell_type": "code",
   "outputs": [
    {
     "data": {
      "text/plain": "        CustomerID    MovieID  FTYPE  REALTIMEPLAYING       DATE  folder  \\\n0          1177679  100059478      3               30   5/1/2019    3065   \n1          1021748  100059478      3             3321   5/1/2019    3065   \n2          1149426  100059479      3             3623   5/1/2019    3063   \n3          1180728  100054913      3              155   5/1/2019    3061   \n4          1092356  100054913      3               24   5/1/2019    3061   \n...            ...        ...    ...              ...        ...     ...   \n935258     2339483  100071543      3             5107   5/3/2020    3063   \n935259     2135270  100071543      3             5106   5/6/2020    3063   \n935260     2710640  100071544      3             3037   5/8/2020    3063   \n935261     2764335  100071541      3               91  5/19/2020    3063   \n935262     2529548  100058056      3              169  5/22/2020    3053   \n\n        Utype  \n0           4  \n1           4  \n2           4  \n3           4  \n4           4  \n...       ...  \n935258      4  \n935259      4  \n935260      4  \n935261      4  \n935262      4  \n\n[935263 rows x 7 columns]",
      "text/html": "<div>\n<style scoped>\n    .dataframe tbody tr th:only-of-type {\n        vertical-align: middle;\n    }\n\n    .dataframe tbody tr th {\n        vertical-align: top;\n    }\n\n    .dataframe thead th {\n        text-align: right;\n    }\n</style>\n<table border=\"1\" class=\"dataframe\">\n  <thead>\n    <tr style=\"text-align: right;\">\n      <th></th>\n      <th>CustomerID</th>\n      <th>MovieID</th>\n      <th>FTYPE</th>\n      <th>REALTIMEPLAYING</th>\n      <th>DATE</th>\n      <th>folder</th>\n      <th>Utype</th>\n    </tr>\n  </thead>\n  <tbody>\n    <tr>\n      <th>0</th>\n      <td>1177679</td>\n      <td>100059478</td>\n      <td>3</td>\n      <td>30</td>\n      <td>5/1/2019</td>\n      <td>3065</td>\n      <td>4</td>\n    </tr>\n    <tr>\n      <th>1</th>\n      <td>1021748</td>\n      <td>100059478</td>\n      <td>3</td>\n      <td>3321</td>\n      <td>5/1/2019</td>\n      <td>3065</td>\n      <td>4</td>\n    </tr>\n    <tr>\n      <th>2</th>\n      <td>1149426</td>\n      <td>100059479</td>\n      <td>3</td>\n      <td>3623</td>\n      <td>5/1/2019</td>\n      <td>3063</td>\n      <td>4</td>\n    </tr>\n    <tr>\n      <th>3</th>\n      <td>1180728</td>\n      <td>100054913</td>\n      <td>3</td>\n      <td>155</td>\n      <td>5/1/2019</td>\n      <td>3061</td>\n      <td>4</td>\n    </tr>\n    <tr>\n      <th>4</th>\n      <td>1092356</td>\n      <td>100054913</td>\n      <td>3</td>\n      <td>24</td>\n      <td>5/1/2019</td>\n      <td>3061</td>\n      <td>4</td>\n    </tr>\n    <tr>\n      <th>...</th>\n      <td>...</td>\n      <td>...</td>\n      <td>...</td>\n      <td>...</td>\n      <td>...</td>\n      <td>...</td>\n      <td>...</td>\n    </tr>\n    <tr>\n      <th>935258</th>\n      <td>2339483</td>\n      <td>100071543</td>\n      <td>3</td>\n      <td>5107</td>\n      <td>5/3/2020</td>\n      <td>3063</td>\n      <td>4</td>\n    </tr>\n    <tr>\n      <th>935259</th>\n      <td>2135270</td>\n      <td>100071543</td>\n      <td>3</td>\n      <td>5106</td>\n      <td>5/6/2020</td>\n      <td>3063</td>\n      <td>4</td>\n    </tr>\n    <tr>\n      <th>935260</th>\n      <td>2710640</td>\n      <td>100071544</td>\n      <td>3</td>\n      <td>3037</td>\n      <td>5/8/2020</td>\n      <td>3063</td>\n      <td>4</td>\n    </tr>\n    <tr>\n      <th>935261</th>\n      <td>2764335</td>\n      <td>100071541</td>\n      <td>3</td>\n      <td>91</td>\n      <td>5/19/2020</td>\n      <td>3063</td>\n      <td>4</td>\n    </tr>\n    <tr>\n      <th>935262</th>\n      <td>2529548</td>\n      <td>100058056</td>\n      <td>3</td>\n      <td>169</td>\n      <td>5/22/2020</td>\n      <td>3053</td>\n      <td>4</td>\n    </tr>\n  </tbody>\n</table>\n<p>935263 rows × 7 columns</p>\n</div>"
     },
     "execution_count": 4,
     "metadata": {},
     "output_type": "execute_result"
    }
   ],
   "source": [
    "log_BHD = pd.read_csv(\"C:\\Bi\\Win Backup\\LongDA\\Lvl1\\Class4 KeyDRM Project\\Log_BHD_MovieID.csv\")\n",
    "log_BHD"
   ],
   "metadata": {
    "collapsed": false,
    "ExecuteTime": {
     "end_time": "2024-04-02T15:23:39.126318Z",
     "start_time": "2024-04-02T15:23:38.500267Z"
    }
   },
   "id": "d59a7f1d5dbd801a",
   "execution_count": 4
  },
  {
   "cell_type": "code",
   "outputs": [
    {
     "name": "stderr",
     "output_type": "stream",
     "text": [
      "C:\\Users\\duytm\\AppData\\Local\\Temp\\ipykernel_22236\\1121407140.py:2: SettingWithCopyWarning: \n",
      "A value is trying to be set on a copy of a slice from a DataFrame\n",
      "\n",
      "See the caveats in the documentation: https://pandas.pydata.org/pandas-docs/stable/user_guide/indexing.html#returning-a-view-versus-a-copy\n",
      "  log_BHD.dropna(inplace = True)\n",
      "C:\\Users\\duytm\\AppData\\Local\\Temp\\ipykernel_22236\\1121407140.py:3: SettingWithCopyWarning: \n",
      "A value is trying to be set on a copy of a slice from a DataFrame\n",
      "\n",
      "See the caveats in the documentation: https://pandas.pydata.org/pandas-docs/stable/user_guide/indexing.html#returning-a-view-versus-a-copy\n",
      "  log_BHD.rename(columns = {'DATE':'Date'},inplace = True)\n",
      "C:\\Users\\duytm\\AppData\\Local\\Temp\\ipykernel_22236\\1121407140.py:4: SettingWithCopyWarning: \n",
      "A value is trying to be set on a copy of a slice from a DataFrame.\n",
      "Try using .loc[row_indexer,col_indexer] = value instead\n",
      "\n",
      "See the caveats in the documentation: https://pandas.pydata.org/pandas-docs/stable/user_guide/indexing.html#returning-a-view-versus-a-copy\n",
      "  log_BHD['CustomerID'] = log_BHD['CustomerID'].astype(str)\n",
      "C:\\Users\\duytm\\AppData\\Local\\Temp\\ipykernel_22236\\1121407140.py:5: SettingWithCopyWarning: \n",
      "A value is trying to be set on a copy of a slice from a DataFrame.\n",
      "Try using .loc[row_indexer,col_indexer] = value instead\n",
      "\n",
      "See the caveats in the documentation: https://pandas.pydata.org/pandas-docs/stable/user_guide/indexing.html#returning-a-view-versus-a-copy\n",
      "  log_BHD['MovieID'] = log_BHD['MovieID'].astype(str)\n",
      "C:\\Users\\duytm\\AppData\\Local\\Temp\\ipykernel_22236\\1121407140.py:6: SettingWithCopyWarning: \n",
      "A value is trying to be set on a copy of a slice from a DataFrame.\n",
      "Try using .loc[row_indexer,col_indexer] = value instead\n",
      "\n",
      "See the caveats in the documentation: https://pandas.pydata.org/pandas-docs/stable/user_guide/indexing.html#returning-a-view-versus-a-copy\n",
      "  log_BHD['Date'] = pd.to_datetime(log_BHD['Date'])\n"
     ]
    },
    {
     "data": {
      "text/plain": "       CustomerID    MovieID       Date\n0         1177679  100059478 2019-05-01\n1         1021748  100059478 2019-05-01\n2         1149426  100059479 2019-05-01\n3         1180728  100054913 2019-05-01\n4         1092356  100054913 2019-05-01\n...           ...        ...        ...\n935258    2339483  100071543 2020-05-03\n935259    2135270  100071543 2020-05-06\n935260    2710640  100071544 2020-05-08\n935261    2764335  100071541 2020-05-19\n935262    2529548  100058056 2020-05-22\n\n[935263 rows x 3 columns]",
      "text/html": "<div>\n<style scoped>\n    .dataframe tbody tr th:only-of-type {\n        vertical-align: middle;\n    }\n\n    .dataframe tbody tr th {\n        vertical-align: top;\n    }\n\n    .dataframe thead th {\n        text-align: right;\n    }\n</style>\n<table border=\"1\" class=\"dataframe\">\n  <thead>\n    <tr style=\"text-align: right;\">\n      <th></th>\n      <th>CustomerID</th>\n      <th>MovieID</th>\n      <th>Date</th>\n    </tr>\n  </thead>\n  <tbody>\n    <tr>\n      <th>0</th>\n      <td>1177679</td>\n      <td>100059478</td>\n      <td>2019-05-01</td>\n    </tr>\n    <tr>\n      <th>1</th>\n      <td>1021748</td>\n      <td>100059478</td>\n      <td>2019-05-01</td>\n    </tr>\n    <tr>\n      <th>2</th>\n      <td>1149426</td>\n      <td>100059479</td>\n      <td>2019-05-01</td>\n    </tr>\n    <tr>\n      <th>3</th>\n      <td>1180728</td>\n      <td>100054913</td>\n      <td>2019-05-01</td>\n    </tr>\n    <tr>\n      <th>4</th>\n      <td>1092356</td>\n      <td>100054913</td>\n      <td>2019-05-01</td>\n    </tr>\n    <tr>\n      <th>...</th>\n      <td>...</td>\n      <td>...</td>\n      <td>...</td>\n    </tr>\n    <tr>\n      <th>935258</th>\n      <td>2339483</td>\n      <td>100071543</td>\n      <td>2020-05-03</td>\n    </tr>\n    <tr>\n      <th>935259</th>\n      <td>2135270</td>\n      <td>100071543</td>\n      <td>2020-05-06</td>\n    </tr>\n    <tr>\n      <th>935260</th>\n      <td>2710640</td>\n      <td>100071544</td>\n      <td>2020-05-08</td>\n    </tr>\n    <tr>\n      <th>935261</th>\n      <td>2764335</td>\n      <td>100071541</td>\n      <td>2020-05-19</td>\n    </tr>\n    <tr>\n      <th>935262</th>\n      <td>2529548</td>\n      <td>100058056</td>\n      <td>2020-05-22</td>\n    </tr>\n  </tbody>\n</table>\n<p>935263 rows × 3 columns</p>\n</div>"
     },
     "execution_count": 5,
     "metadata": {},
     "output_type": "execute_result"
    }
   ],
   "source": [
    "log_BHD = log_BHD[['CustomerID','MovieID', 'DATE']]\n",
    "log_BHD.dropna(inplace = True)\n",
    "log_BHD.rename(columns = {'DATE':'Date'},inplace = True)\n",
    "log_BHD['CustomerID'] = log_BHD['CustomerID'].astype(str)\n",
    "log_BHD['MovieID'] = log_BHD['MovieID'].astype(str)\n",
    "log_BHD['Date'] = pd.to_datetime(log_BHD['Date'])\n",
    "log_BHD"
   ],
   "metadata": {
    "collapsed": false,
    "ExecuteTime": {
     "end_time": "2024-04-02T15:23:46.308836Z",
     "start_time": "2024-04-02T15:23:45.475944Z"
    }
   },
   "id": "994a45984ef57f0b",
   "execution_count": 5
  },
  {
   "cell_type": "code",
   "outputs": [
    {
     "data": {
      "text/plain": "         CustomerID    MovieId  Ftype  realtimeplaying  \\\n0           1665166  100060921      1            63404   \n1           1949528  100069961      1              938   \n2           1685734  100067273      1             2544   \n3            468599  100069542      1              846   \n4            468599  100069542      1              847   \n...             ...        ...    ...              ...   \n1687007      122658  100070373      1             1379   \n1687008     1875107  100061804      1              248   \n1687009      148871  100067273      1              702   \n1687010      537262  100067371      1             1301   \n1687011     2076361  100064592      1               62   \n\n                            date  folder  utype  \n0        2019-05-04 00:23:41.000    4035      4  \n1        2019-05-04 00:23:46.000    4035      4  \n2        2019-05-04 00:23:48.000    4021      4  \n3        2019-05-04 00:23:56.000    4035      4  \n4        2019-05-04 00:23:56.000    4035      4  \n...                          ...     ...    ...  \n1687007  2019-07-09 09:08:05.000    4035      4  \n1687008  2019-07-09 09:08:06.000    4027      4  \n1687009  2019-07-09 09:08:07.000    4021      4  \n1687010  2019-07-09 09:08:09.000    4024      4  \n1687011  2019-07-09 09:08:12.000    4021      4  \n\n[1687012 rows x 7 columns]",
      "text/html": "<div>\n<style scoped>\n    .dataframe tbody tr th:only-of-type {\n        vertical-align: middle;\n    }\n\n    .dataframe tbody tr th {\n        vertical-align: top;\n    }\n\n    .dataframe thead th {\n        text-align: right;\n    }\n</style>\n<table border=\"1\" class=\"dataframe\">\n  <thead>\n    <tr style=\"text-align: right;\">\n      <th></th>\n      <th>CustomerID</th>\n      <th>MovieId</th>\n      <th>Ftype</th>\n      <th>realtimeplaying</th>\n      <th>date</th>\n      <th>folder</th>\n      <th>utype</th>\n    </tr>\n  </thead>\n  <tbody>\n    <tr>\n      <th>0</th>\n      <td>1665166</td>\n      <td>100060921</td>\n      <td>1</td>\n      <td>63404</td>\n      <td>2019-05-04 00:23:41.000</td>\n      <td>4035</td>\n      <td>4</td>\n    </tr>\n    <tr>\n      <th>1</th>\n      <td>1949528</td>\n      <td>100069961</td>\n      <td>1</td>\n      <td>938</td>\n      <td>2019-05-04 00:23:46.000</td>\n      <td>4035</td>\n      <td>4</td>\n    </tr>\n    <tr>\n      <th>2</th>\n      <td>1685734</td>\n      <td>100067273</td>\n      <td>1</td>\n      <td>2544</td>\n      <td>2019-05-04 00:23:48.000</td>\n      <td>4021</td>\n      <td>4</td>\n    </tr>\n    <tr>\n      <th>3</th>\n      <td>468599</td>\n      <td>100069542</td>\n      <td>1</td>\n      <td>846</td>\n      <td>2019-05-04 00:23:56.000</td>\n      <td>4035</td>\n      <td>4</td>\n    </tr>\n    <tr>\n      <th>4</th>\n      <td>468599</td>\n      <td>100069542</td>\n      <td>1</td>\n      <td>847</td>\n      <td>2019-05-04 00:23:56.000</td>\n      <td>4035</td>\n      <td>4</td>\n    </tr>\n    <tr>\n      <th>...</th>\n      <td>...</td>\n      <td>...</td>\n      <td>...</td>\n      <td>...</td>\n      <td>...</td>\n      <td>...</td>\n      <td>...</td>\n    </tr>\n    <tr>\n      <th>1687007</th>\n      <td>122658</td>\n      <td>100070373</td>\n      <td>1</td>\n      <td>1379</td>\n      <td>2019-07-09 09:08:05.000</td>\n      <td>4035</td>\n      <td>4</td>\n    </tr>\n    <tr>\n      <th>1687008</th>\n      <td>1875107</td>\n      <td>100061804</td>\n      <td>1</td>\n      <td>248</td>\n      <td>2019-07-09 09:08:06.000</td>\n      <td>4027</td>\n      <td>4</td>\n    </tr>\n    <tr>\n      <th>1687009</th>\n      <td>148871</td>\n      <td>100067273</td>\n      <td>1</td>\n      <td>702</td>\n      <td>2019-07-09 09:08:07.000</td>\n      <td>4021</td>\n      <td>4</td>\n    </tr>\n    <tr>\n      <th>1687010</th>\n      <td>537262</td>\n      <td>100067371</td>\n      <td>1</td>\n      <td>1301</td>\n      <td>2019-07-09 09:08:09.000</td>\n      <td>4024</td>\n      <td>4</td>\n    </tr>\n    <tr>\n      <th>1687011</th>\n      <td>2076361</td>\n      <td>100064592</td>\n      <td>1</td>\n      <td>62</td>\n      <td>2019-07-09 09:08:12.000</td>\n      <td>4021</td>\n      <td>4</td>\n    </tr>\n  </tbody>\n</table>\n<p>1687012 rows × 7 columns</p>\n</div>"
     },
     "execution_count": 8,
     "metadata": {},
     "output_type": "execute_result"
    }
   ],
   "source": [
    "log_Fimplus = pd.read_csv(\"C:\\Bi\\Win Backup\\LongDA\\Lvl1\\Class4 KeyDRM Project\\Log_Fimplus_MovieID.csv\")\n",
    "log_Fimplus"
   ],
   "metadata": {
    "collapsed": false,
    "ExecuteTime": {
     "end_time": "2024-04-02T15:24:49.557598Z",
     "start_time": "2024-04-02T15:24:47.829425Z"
    }
   },
   "id": "b76f7372ca004d9c",
   "execution_count": 8
  },
  {
   "cell_type": "code",
   "outputs": [
    {
     "name": "stderr",
     "output_type": "stream",
     "text": [
      "C:\\Users\\duytm\\AppData\\Local\\Temp\\ipykernel_22236\\4162232697.py:2: SettingWithCopyWarning: \n",
      "A value is trying to be set on a copy of a slice from a DataFrame\n",
      "\n",
      "See the caveats in the documentation: https://pandas.pydata.org/pandas-docs/stable/user_guide/indexing.html#returning-a-view-versus-a-copy\n",
      "  log_Fimplus.dropna(inplace = True)\n",
      "C:\\Users\\duytm\\AppData\\Local\\Temp\\ipykernel_22236\\4162232697.py:3: SettingWithCopyWarning: \n",
      "A value is trying to be set on a copy of a slice from a DataFrame\n",
      "\n",
      "See the caveats in the documentation: https://pandas.pydata.org/pandas-docs/stable/user_guide/indexing.html#returning-a-view-versus-a-copy\n",
      "  log_Fimplus.rename(columns={'date':'Date','MovieId':'MovieID'},inplace = True)\n",
      "C:\\Users\\duytm\\AppData\\Local\\Temp\\ipykernel_22236\\4162232697.py:4: SettingWithCopyWarning: \n",
      "A value is trying to be set on a copy of a slice from a DataFrame.\n",
      "Try using .loc[row_indexer,col_indexer] = value instead\n",
      "\n",
      "See the caveats in the documentation: https://pandas.pydata.org/pandas-docs/stable/user_guide/indexing.html#returning-a-view-versus-a-copy\n",
      "  log_Fimplus['CustomerID'] = log_Fimplus['CustomerID'].astype(str)\n",
      "C:\\Users\\duytm\\AppData\\Local\\Temp\\ipykernel_22236\\4162232697.py:5: SettingWithCopyWarning: \n",
      "A value is trying to be set on a copy of a slice from a DataFrame.\n",
      "Try using .loc[row_indexer,col_indexer] = value instead\n",
      "\n",
      "See the caveats in the documentation: https://pandas.pydata.org/pandas-docs/stable/user_guide/indexing.html#returning-a-view-versus-a-copy\n",
      "  log_Fimplus['MovieID'] = log_Fimplus['MovieID'].astype(str)\n",
      "C:\\Users\\duytm\\AppData\\Local\\Temp\\ipykernel_22236\\4162232697.py:6: SettingWithCopyWarning: \n",
      "A value is trying to be set on a copy of a slice from a DataFrame.\n",
      "Try using .loc[row_indexer,col_indexer] = value instead\n",
      "\n",
      "See the caveats in the documentation: https://pandas.pydata.org/pandas-docs/stable/user_guide/indexing.html#returning-a-view-versus-a-copy\n",
      "  log_Fimplus['Date'] = pd.to_datetime(log_Fimplus['Date']).dt.strftime('%Y-%m-%d')\n",
      "C:\\Users\\duytm\\AppData\\Local\\Temp\\ipykernel_22236\\4162232697.py:7: SettingWithCopyWarning: \n",
      "A value is trying to be set on a copy of a slice from a DataFrame.\n",
      "Try using .loc[row_indexer,col_indexer] = value instead\n",
      "\n",
      "See the caveats in the documentation: https://pandas.pydata.org/pandas-docs/stable/user_guide/indexing.html#returning-a-view-versus-a-copy\n",
      "  log_Fimplus['Date'] = pd.to_datetime(log_Fimplus['Date'])\n"
     ]
    },
    {
     "data": {
      "text/plain": "        CustomerID    MovieID       Date\n0          1665166  100060921 2019-05-04\n1          1949528  100069961 2019-05-04\n2          1685734  100067273 2019-05-04\n3           468599  100069542 2019-05-04\n4           468599  100069542 2019-05-04\n...            ...        ...        ...\n1687007     122658  100070373 2019-07-09\n1687008    1875107  100061804 2019-07-09\n1687009     148871  100067273 2019-07-09\n1687010     537262  100067371 2019-07-09\n1687011    2076361  100064592 2019-07-09\n\n[1687012 rows x 3 columns]",
      "text/html": "<div>\n<style scoped>\n    .dataframe tbody tr th:only-of-type {\n        vertical-align: middle;\n    }\n\n    .dataframe tbody tr th {\n        vertical-align: top;\n    }\n\n    .dataframe thead th {\n        text-align: right;\n    }\n</style>\n<table border=\"1\" class=\"dataframe\">\n  <thead>\n    <tr style=\"text-align: right;\">\n      <th></th>\n      <th>CustomerID</th>\n      <th>MovieID</th>\n      <th>Date</th>\n    </tr>\n  </thead>\n  <tbody>\n    <tr>\n      <th>0</th>\n      <td>1665166</td>\n      <td>100060921</td>\n      <td>2019-05-04</td>\n    </tr>\n    <tr>\n      <th>1</th>\n      <td>1949528</td>\n      <td>100069961</td>\n      <td>2019-05-04</td>\n    </tr>\n    <tr>\n      <th>2</th>\n      <td>1685734</td>\n      <td>100067273</td>\n      <td>2019-05-04</td>\n    </tr>\n    <tr>\n      <th>3</th>\n      <td>468599</td>\n      <td>100069542</td>\n      <td>2019-05-04</td>\n    </tr>\n    <tr>\n      <th>4</th>\n      <td>468599</td>\n      <td>100069542</td>\n      <td>2019-05-04</td>\n    </tr>\n    <tr>\n      <th>...</th>\n      <td>...</td>\n      <td>...</td>\n      <td>...</td>\n    </tr>\n    <tr>\n      <th>1687007</th>\n      <td>122658</td>\n      <td>100070373</td>\n      <td>2019-07-09</td>\n    </tr>\n    <tr>\n      <th>1687008</th>\n      <td>1875107</td>\n      <td>100061804</td>\n      <td>2019-07-09</td>\n    </tr>\n    <tr>\n      <th>1687009</th>\n      <td>148871</td>\n      <td>100067273</td>\n      <td>2019-07-09</td>\n    </tr>\n    <tr>\n      <th>1687010</th>\n      <td>537262</td>\n      <td>100067371</td>\n      <td>2019-07-09</td>\n    </tr>\n    <tr>\n      <th>1687011</th>\n      <td>2076361</td>\n      <td>100064592</td>\n      <td>2019-07-09</td>\n    </tr>\n  </tbody>\n</table>\n<p>1687012 rows × 3 columns</p>\n</div>"
     },
     "execution_count": 9,
     "metadata": {},
     "output_type": "execute_result"
    }
   ],
   "source": [
    "log_Fimplus = log_Fimplus[['CustomerID','MovieId','date']]\n",
    "log_Fimplus.dropna(inplace = True)\n",
    "log_Fimplus.rename(columns={'date':'Date','MovieId':'MovieID'},inplace = True)\n",
    "log_Fimplus['CustomerID'] = log_Fimplus['CustomerID'].astype(str)\n",
    "log_Fimplus['MovieID'] = log_Fimplus['MovieID'].astype(str)\n",
    "log_Fimplus['Date'] = pd.to_datetime(log_Fimplus['Date']).dt.strftime('%Y-%m-%d')\n",
    "log_Fimplus['Date'] = pd.to_datetime(log_Fimplus['Date'])\n",
    "log_Fimplus"
   ],
   "metadata": {
    "collapsed": false,
    "ExecuteTime": {
     "end_time": "2024-04-02T15:24:56.973017Z",
     "start_time": "2024-04-02T15:24:52.909281Z"
    }
   },
   "id": "205bb13802ad61bb",
   "execution_count": 9
  },
  {
   "cell_type": "code",
   "outputs": [
    {
     "data": {
      "text/plain": "              id   toptitle                              titleEN  release  \\\n0      100000001     Tâm lý                       Innocent Steps   2005.0   \n1      100000002  Hành động     AAofUltron_1080p_10M_AC3_H264_TS   2015.0   \n2      100000003  Hành động      AAofUltron_1080p_8M_AC3_H264_TS   2015.0   \n3      100000004  Hành động       AAofUltron_720p_4M_AC3_H264_TS   2015.0   \n4      100000005  Hoạt hình                                 Ajin   2016.0   \n...          ...        ...                                  ...      ...   \n28802  100078454     Tâm lý                             Papillon   2017.0   \n28803  100078476  Hành động  Demon Slayer The Movie: Mugen Train   2020.0   \n28804  100078481   Việt Nam                      Homecoming Star   2021.0   \n28805  100078488    Hoa ngữ                           Hua Xu Yin   2015.0   \n28806  100078489    Hoa ngữ                         Ode To Joy 3   2022.0   \n\n                                                  actors  \\\n0              Mun Geun-yung, Park Kun-hyung, Jung Yu-mi   \n1           Robert Downey Jr., Mark Ruffalo, Chris Evans   \n2           Robert Downey Jr., Mark Ruffalo, Chris Evans   \n3           Robert Downey Jr., Mark Ruffalo, Chris Evans   \n4        Mamoru Miyano, Yoshimasa Hosoya, Mikako Komatsu   \n...                                                  ...   \n28802  Charlie Hunnam, Damijan Oklopdzic, Christopher...   \n28803     Natsuki Hanae, Yoshitsugu Matsuoka, Akari Kito   \n28804             Lâm Thanh Nhã, Dương Gia Mỹ, Trung Dân   \n28805                  Trịnh Gia Dĩnh, Lâm Viên, Cao Hạo   \n28806    Giang Sơ Ảnh, Dương Thái Ngọc, Trương Giai Ninh   \n\n                         directors  \\\n0                  Park Young-hoon   \n1                      Joss Whedon   \n2                      Joss Whedon   \n3                      Joss Whedon   \n4                     Hiroaki Ando   \n...                            ...   \n28802                 Michael Noer   \n28803               Haruo Sotozaki   \n28804               Dương Ngọc Của   \n28805  Lý Đạt Siêu, Đàm Hữu Nghiệp   \n28806               Giản Xuyên Hòa   \n\n                                            Producers PublishCountry  \\\n0                                   Culture Cap Media       Hàn Quốc   \n1                                      Marvel Studios             Mỹ   \n2                                      Marvel Studios             Mỹ   \n3                                      Marvel Studios             Mỹ   \n4                                    Polygon Pictures       Nhật Bản   \n...                                               ...            ...   \n28802                            Red Granite Pictures             Mỹ   \n28803                                        Ufotable       Nhật Bản   \n28804                         Dien Quan Entertainment       Việt Nam   \n28805                        Tianjin North Film Group     Trung Quốc   \n28806  Dongyang Noon Sunshine Film and Television Co.     Trung Quốc   \n\n       Duration  isDRM  \n0         720.0      0  \n1          48.0      0  \n2          48.0      0  \n3          48.0      0  \n4         720.0      0  \n...         ...    ...  \n28802       NaN      0  \n28803       NaN      0  \n28804       NaN      0  \n28805       NaN      0  \n28806       NaN      0  \n\n[28807 rows x 10 columns]",
      "text/html": "<div>\n<style scoped>\n    .dataframe tbody tr th:only-of-type {\n        vertical-align: middle;\n    }\n\n    .dataframe tbody tr th {\n        vertical-align: top;\n    }\n\n    .dataframe thead th {\n        text-align: right;\n    }\n</style>\n<table border=\"1\" class=\"dataframe\">\n  <thead>\n    <tr style=\"text-align: right;\">\n      <th></th>\n      <th>id</th>\n      <th>toptitle</th>\n      <th>titleEN</th>\n      <th>release</th>\n      <th>actors</th>\n      <th>directors</th>\n      <th>Producers</th>\n      <th>PublishCountry</th>\n      <th>Duration</th>\n      <th>isDRM</th>\n    </tr>\n  </thead>\n  <tbody>\n    <tr>\n      <th>0</th>\n      <td>100000001</td>\n      <td>Tâm lý</td>\n      <td>Innocent Steps</td>\n      <td>2005.0</td>\n      <td>Mun Geun-yung, Park Kun-hyung, Jung Yu-mi</td>\n      <td>Park Young-hoon</td>\n      <td>Culture Cap Media</td>\n      <td>Hàn Quốc</td>\n      <td>720.0</td>\n      <td>0</td>\n    </tr>\n    <tr>\n      <th>1</th>\n      <td>100000002</td>\n      <td>Hành động</td>\n      <td>AAofUltron_1080p_10M_AC3_H264_TS</td>\n      <td>2015.0</td>\n      <td>Robert Downey Jr., Mark Ruffalo, Chris Evans</td>\n      <td>Joss Whedon</td>\n      <td>Marvel Studios</td>\n      <td>Mỹ</td>\n      <td>48.0</td>\n      <td>0</td>\n    </tr>\n    <tr>\n      <th>2</th>\n      <td>100000003</td>\n      <td>Hành động</td>\n      <td>AAofUltron_1080p_8M_AC3_H264_TS</td>\n      <td>2015.0</td>\n      <td>Robert Downey Jr., Mark Ruffalo, Chris Evans</td>\n      <td>Joss Whedon</td>\n      <td>Marvel Studios</td>\n      <td>Mỹ</td>\n      <td>48.0</td>\n      <td>0</td>\n    </tr>\n    <tr>\n      <th>3</th>\n      <td>100000004</td>\n      <td>Hành động</td>\n      <td>AAofUltron_720p_4M_AC3_H264_TS</td>\n      <td>2015.0</td>\n      <td>Robert Downey Jr., Mark Ruffalo, Chris Evans</td>\n      <td>Joss Whedon</td>\n      <td>Marvel Studios</td>\n      <td>Mỹ</td>\n      <td>48.0</td>\n      <td>0</td>\n    </tr>\n    <tr>\n      <th>4</th>\n      <td>100000005</td>\n      <td>Hoạt hình</td>\n      <td>Ajin</td>\n      <td>2016.0</td>\n      <td>Mamoru Miyano, Yoshimasa Hosoya, Mikako Komatsu</td>\n      <td>Hiroaki Ando</td>\n      <td>Polygon Pictures</td>\n      <td>Nhật Bản</td>\n      <td>720.0</td>\n      <td>0</td>\n    </tr>\n    <tr>\n      <th>...</th>\n      <td>...</td>\n      <td>...</td>\n      <td>...</td>\n      <td>...</td>\n      <td>...</td>\n      <td>...</td>\n      <td>...</td>\n      <td>...</td>\n      <td>...</td>\n      <td>...</td>\n    </tr>\n    <tr>\n      <th>28802</th>\n      <td>100078454</td>\n      <td>Tâm lý</td>\n      <td>Papillon</td>\n      <td>2017.0</td>\n      <td>Charlie Hunnam, Damijan Oklopdzic, Christopher...</td>\n      <td>Michael Noer</td>\n      <td>Red Granite Pictures</td>\n      <td>Mỹ</td>\n      <td>NaN</td>\n      <td>0</td>\n    </tr>\n    <tr>\n      <th>28803</th>\n      <td>100078476</td>\n      <td>Hành động</td>\n      <td>Demon Slayer The Movie: Mugen Train</td>\n      <td>2020.0</td>\n      <td>Natsuki Hanae, Yoshitsugu Matsuoka, Akari Kito</td>\n      <td>Haruo Sotozaki</td>\n      <td>Ufotable</td>\n      <td>Nhật Bản</td>\n      <td>NaN</td>\n      <td>0</td>\n    </tr>\n    <tr>\n      <th>28804</th>\n      <td>100078481</td>\n      <td>Việt Nam</td>\n      <td>Homecoming Star</td>\n      <td>2021.0</td>\n      <td>Lâm Thanh Nhã, Dương Gia Mỹ, Trung Dân</td>\n      <td>Dương Ngọc Của</td>\n      <td>Dien Quan Entertainment</td>\n      <td>Việt Nam</td>\n      <td>NaN</td>\n      <td>0</td>\n    </tr>\n    <tr>\n      <th>28805</th>\n      <td>100078488</td>\n      <td>Hoa ngữ</td>\n      <td>Hua Xu Yin</td>\n      <td>2015.0</td>\n      <td>Trịnh Gia Dĩnh, Lâm Viên, Cao Hạo</td>\n      <td>Lý Đạt Siêu, Đàm Hữu Nghiệp</td>\n      <td>Tianjin North Film Group</td>\n      <td>Trung Quốc</td>\n      <td>NaN</td>\n      <td>0</td>\n    </tr>\n    <tr>\n      <th>28806</th>\n      <td>100078489</td>\n      <td>Hoa ngữ</td>\n      <td>Ode To Joy 3</td>\n      <td>2022.0</td>\n      <td>Giang Sơ Ảnh, Dương Thái Ngọc, Trương Giai Ninh</td>\n      <td>Giản Xuyên Hòa</td>\n      <td>Dongyang Noon Sunshine Film and Television Co.</td>\n      <td>Trung Quốc</td>\n      <td>NaN</td>\n      <td>0</td>\n    </tr>\n  </tbody>\n</table>\n<p>28807 rows × 10 columns</p>\n</div>"
     },
     "execution_count": 10,
     "metadata": {},
     "output_type": "execute_result"
    }
   ],
   "source": [
    "MV = pd.read_csv(\"C:\\Bi\\Win Backup\\LongDA\\Lvl1\\Class4 KeyDRM Project\\MV_PropertiesShowVN.csv\")\n",
    "MV"
   ],
   "metadata": {
    "collapsed": false,
    "ExecuteTime": {
     "end_time": "2024-04-02T15:25:03.911068Z",
     "start_time": "2024-04-02T15:25:03.816682Z"
    }
   },
   "id": "eb263a34e4716140",
   "execution_count": 10
  },
  {
   "cell_type": "code",
   "outputs": [
    {
     "name": "stderr",
     "output_type": "stream",
     "text": [
      "C:\\Users\\duytm\\AppData\\Local\\Temp\\ipykernel_22236\\3709630822.py:2: SettingWithCopyWarning: \n",
      "A value is trying to be set on a copy of a slice from a DataFrame\n",
      "\n",
      "See the caveats in the documentation: https://pandas.pydata.org/pandas-docs/stable/user_guide/indexing.html#returning-a-view-versus-a-copy\n",
      "  MV.dropna(inplace = True)\n",
      "C:\\Users\\duytm\\AppData\\Local\\Temp\\ipykernel_22236\\3709630822.py:3: SettingWithCopyWarning: \n",
      "A value is trying to be set on a copy of a slice from a DataFrame\n",
      "\n",
      "See the caveats in the documentation: https://pandas.pydata.org/pandas-docs/stable/user_guide/indexing.html#returning-a-view-versus-a-copy\n",
      "  MV.rename(columns={'id':'MovieID'}, inplace = True)\n",
      "C:\\Users\\duytm\\AppData\\Local\\Temp\\ipykernel_22236\\3709630822.py:4: SettingWithCopyWarning: \n",
      "A value is trying to be set on a copy of a slice from a DataFrame.\n",
      "Try using .loc[row_indexer,col_indexer] = value instead\n",
      "\n",
      "See the caveats in the documentation: https://pandas.pydata.org/pandas-docs/stable/user_guide/indexing.html#returning-a-view-versus-a-copy\n",
      "  MV['MovieID'] = MV['MovieID'].astype(str)\n"
     ]
    },
    {
     "data": {
      "text/plain": "         MovieID  isDRM\n0      100000001      0\n1      100000002      0\n2      100000003      0\n3      100000004      0\n4      100000005      0\n...          ...    ...\n28802  100078454      0\n28803  100078476      0\n28804  100078481      0\n28805  100078488      0\n28806  100078489      0\n\n[28807 rows x 2 columns]",
      "text/html": "<div>\n<style scoped>\n    .dataframe tbody tr th:only-of-type {\n        vertical-align: middle;\n    }\n\n    .dataframe tbody tr th {\n        vertical-align: top;\n    }\n\n    .dataframe thead th {\n        text-align: right;\n    }\n</style>\n<table border=\"1\" class=\"dataframe\">\n  <thead>\n    <tr style=\"text-align: right;\">\n      <th></th>\n      <th>MovieID</th>\n      <th>isDRM</th>\n    </tr>\n  </thead>\n  <tbody>\n    <tr>\n      <th>0</th>\n      <td>100000001</td>\n      <td>0</td>\n    </tr>\n    <tr>\n      <th>1</th>\n      <td>100000002</td>\n      <td>0</td>\n    </tr>\n    <tr>\n      <th>2</th>\n      <td>100000003</td>\n      <td>0</td>\n    </tr>\n    <tr>\n      <th>3</th>\n      <td>100000004</td>\n      <td>0</td>\n    </tr>\n    <tr>\n      <th>4</th>\n      <td>100000005</td>\n      <td>0</td>\n    </tr>\n    <tr>\n      <th>...</th>\n      <td>...</td>\n      <td>...</td>\n    </tr>\n    <tr>\n      <th>28802</th>\n      <td>100078454</td>\n      <td>0</td>\n    </tr>\n    <tr>\n      <th>28803</th>\n      <td>100078476</td>\n      <td>0</td>\n    </tr>\n    <tr>\n      <th>28804</th>\n      <td>100078481</td>\n      <td>0</td>\n    </tr>\n    <tr>\n      <th>28805</th>\n      <td>100078488</td>\n      <td>0</td>\n    </tr>\n    <tr>\n      <th>28806</th>\n      <td>100078489</td>\n      <td>0</td>\n    </tr>\n  </tbody>\n</table>\n<p>28807 rows × 2 columns</p>\n</div>"
     },
     "execution_count": 11,
     "metadata": {},
     "output_type": "execute_result"
    }
   ],
   "source": [
    "MV = MV[['id','isDRM']]\n",
    "MV.dropna(inplace = True)\n",
    "MV.rename(columns={'id':'MovieID'}, inplace = True)\n",
    "MV['MovieID'] = MV['MovieID'].astype(str)\n",
    "MV"
   ],
   "metadata": {
    "collapsed": false,
    "ExecuteTime": {
     "end_time": "2024-04-02T15:25:14.877242Z",
     "start_time": "2024-04-02T15:25:14.853551Z"
    }
   },
   "id": "78238d9ca130d94c",
   "execution_count": 11
  },
  {
   "cell_type": "code",
   "outputs": [
    {
     "data": {
      "text/plain": "         MovieID  isDRM\n120    100000196      1\n145    100000268      1\n146    100000275      1\n147    100000276      1\n206    100000491      1\n...          ...    ...\n28793  100078440      1\n28795  100078444      1\n28797  100078446      1\n28798  100078447      1\n28800  100078451      1\n\n[6605 rows x 2 columns]",
      "text/html": "<div>\n<style scoped>\n    .dataframe tbody tr th:only-of-type {\n        vertical-align: middle;\n    }\n\n    .dataframe tbody tr th {\n        vertical-align: top;\n    }\n\n    .dataframe thead th {\n        text-align: right;\n    }\n</style>\n<table border=\"1\" class=\"dataframe\">\n  <thead>\n    <tr style=\"text-align: right;\">\n      <th></th>\n      <th>MovieID</th>\n      <th>isDRM</th>\n    </tr>\n  </thead>\n  <tbody>\n    <tr>\n      <th>120</th>\n      <td>100000196</td>\n      <td>1</td>\n    </tr>\n    <tr>\n      <th>145</th>\n      <td>100000268</td>\n      <td>1</td>\n    </tr>\n    <tr>\n      <th>146</th>\n      <td>100000275</td>\n      <td>1</td>\n    </tr>\n    <tr>\n      <th>147</th>\n      <td>100000276</td>\n      <td>1</td>\n    </tr>\n    <tr>\n      <th>206</th>\n      <td>100000491</td>\n      <td>1</td>\n    </tr>\n    <tr>\n      <th>...</th>\n      <td>...</td>\n      <td>...</td>\n    </tr>\n    <tr>\n      <th>28793</th>\n      <td>100078440</td>\n      <td>1</td>\n    </tr>\n    <tr>\n      <th>28795</th>\n      <td>100078444</td>\n      <td>1</td>\n    </tr>\n    <tr>\n      <th>28797</th>\n      <td>100078446</td>\n      <td>1</td>\n    </tr>\n    <tr>\n      <th>28798</th>\n      <td>100078447</td>\n      <td>1</td>\n    </tr>\n    <tr>\n      <th>28800</th>\n      <td>100078451</td>\n      <td>1</td>\n    </tr>\n  </tbody>\n</table>\n<p>6605 rows × 2 columns</p>\n</div>"
     },
     "execution_count": 12,
     "metadata": {},
     "output_type": "execute_result"
    }
   ],
   "source": [
    "MV_1 = MV[MV['isDRM'] == 1]\n",
    "MV_1 "
   ],
   "metadata": {
    "collapsed": false,
    "ExecuteTime": {
     "end_time": "2024-04-02T15:25:21.669349Z",
     "start_time": "2024-04-02T15:25:21.658908Z"
    }
   },
   "id": "3024923c8e6f24dd",
   "execution_count": 12
  },
  {
   "cell_type": "code",
   "outputs": [
    {
     "data": {
      "text/plain": "          Date  CustomerID\n0   2019-05-01          93\n1   2019-05-02          68\n2   2019-05-03          73\n3   2019-05-04          89\n4   2019-05-05          83\n..         ...         ...\n392 2020-05-27         531\n393 2020-05-28         521\n394 2020-05-29         560\n395 2020-05-30         583\n396 2020-05-31         540\n\n[397 rows x 2 columns]",
      "text/html": "<div>\n<style scoped>\n    .dataframe tbody tr th:only-of-type {\n        vertical-align: middle;\n    }\n\n    .dataframe tbody tr th {\n        vertical-align: top;\n    }\n\n    .dataframe thead th {\n        text-align: right;\n    }\n</style>\n<table border=\"1\" class=\"dataframe\">\n  <thead>\n    <tr style=\"text-align: right;\">\n      <th></th>\n      <th>Date</th>\n      <th>CustomerID</th>\n    </tr>\n  </thead>\n  <tbody>\n    <tr>\n      <th>0</th>\n      <td>2019-05-01</td>\n      <td>93</td>\n    </tr>\n    <tr>\n      <th>1</th>\n      <td>2019-05-02</td>\n      <td>68</td>\n    </tr>\n    <tr>\n      <th>2</th>\n      <td>2019-05-03</td>\n      <td>73</td>\n    </tr>\n    <tr>\n      <th>3</th>\n      <td>2019-05-04</td>\n      <td>89</td>\n    </tr>\n    <tr>\n      <th>4</th>\n      <td>2019-05-05</td>\n      <td>83</td>\n    </tr>\n    <tr>\n      <th>...</th>\n      <td>...</td>\n      <td>...</td>\n    </tr>\n    <tr>\n      <th>392</th>\n      <td>2020-05-27</td>\n      <td>531</td>\n    </tr>\n    <tr>\n      <th>393</th>\n      <td>2020-05-28</td>\n      <td>521</td>\n    </tr>\n    <tr>\n      <th>394</th>\n      <td>2020-05-29</td>\n      <td>560</td>\n    </tr>\n    <tr>\n      <th>395</th>\n      <td>2020-05-30</td>\n      <td>583</td>\n    </tr>\n    <tr>\n      <th>396</th>\n      <td>2020-05-31</td>\n      <td>540</td>\n    </tr>\n  </tbody>\n</table>\n<p>397 rows × 2 columns</p>\n</div>"
     },
     "execution_count": 13,
     "metadata": {},
     "output_type": "execute_result"
    }
   ],
   "source": [
    "BHD_1 = log_BHD.merge(MV_1, on = 'MovieID', how = 'left')\n",
    "BHD_1 = BHD_1.dropna()\n",
    "BHD_1 = BHD_1.groupby('Date')['CustomerID'].nunique().reset_index()\n",
    "BHD_1"
   ],
   "metadata": {
    "collapsed": false,
    "ExecuteTime": {
     "end_time": "2024-04-02T15:25:38.985980Z",
     "start_time": "2024-04-02T15:25:38.500398Z"
    }
   },
   "id": "b1c35babce59cc03",
   "execution_count": 13
  },
  {
   "cell_type": "code",
   "outputs": [
    {
     "data": {
      "text/plain": "          Date  CustomerID\n0   2019-05-01        4520\n1   2019-05-02        3780\n2   2019-05-03        4092\n3   2019-05-04        4522\n4   2019-05-05        4567\n..         ...         ...\n118 2019-08-27        3475\n119 2019-08-28        3581\n120 2019-08-29        3659\n121 2019-08-30        3891\n122 2019-08-31        4036\n\n[123 rows x 2 columns]",
      "text/html": "<div>\n<style scoped>\n    .dataframe tbody tr th:only-of-type {\n        vertical-align: middle;\n    }\n\n    .dataframe tbody tr th {\n        vertical-align: top;\n    }\n\n    .dataframe thead th {\n        text-align: right;\n    }\n</style>\n<table border=\"1\" class=\"dataframe\">\n  <thead>\n    <tr style=\"text-align: right;\">\n      <th></th>\n      <th>Date</th>\n      <th>CustomerID</th>\n    </tr>\n  </thead>\n  <tbody>\n    <tr>\n      <th>0</th>\n      <td>2019-05-01</td>\n      <td>4520</td>\n    </tr>\n    <tr>\n      <th>1</th>\n      <td>2019-05-02</td>\n      <td>3780</td>\n    </tr>\n    <tr>\n      <th>2</th>\n      <td>2019-05-03</td>\n      <td>4092</td>\n    </tr>\n    <tr>\n      <th>3</th>\n      <td>2019-05-04</td>\n      <td>4522</td>\n    </tr>\n    <tr>\n      <th>4</th>\n      <td>2019-05-05</td>\n      <td>4567</td>\n    </tr>\n    <tr>\n      <th>...</th>\n      <td>...</td>\n      <td>...</td>\n    </tr>\n    <tr>\n      <th>118</th>\n      <td>2019-08-27</td>\n      <td>3475</td>\n    </tr>\n    <tr>\n      <th>119</th>\n      <td>2019-08-28</td>\n      <td>3581</td>\n    </tr>\n    <tr>\n      <th>120</th>\n      <td>2019-08-29</td>\n      <td>3659</td>\n    </tr>\n    <tr>\n      <th>121</th>\n      <td>2019-08-30</td>\n      <td>3891</td>\n    </tr>\n    <tr>\n      <th>122</th>\n      <td>2019-08-31</td>\n      <td>4036</td>\n    </tr>\n  </tbody>\n</table>\n<p>123 rows × 2 columns</p>\n</div>"
     },
     "execution_count": 14,
     "metadata": {},
     "output_type": "execute_result"
    }
   ],
   "source": [
    "Fimplus_1 = log_Fimplus.merge(MV_1, on = 'MovieID', how = 'left')\n",
    "Fimplus_1 = Fimplus_1.dropna()\n",
    "Fimplus_1 = Fimplus_1.groupby('Date')['CustomerID'].nunique().reset_index()\n",
    "Fimplus_1"
   ],
   "metadata": {
    "collapsed": false,
    "ExecuteTime": {
     "end_time": "2024-04-02T15:25:51.544697Z",
     "start_time": "2024-04-02T15:25:49.723516Z"
    }
   },
   "id": "6d850cbfde6c876f",
   "execution_count": 14
  },
  {
   "cell_type": "code",
   "outputs": [
    {
     "data": {
      "text/plain": "        CustomerID        Date           Mac\n0           378250  2020-04-12  B046FCB46C3A\n1          1636894  2020-04-19  DCA26622E8BD\n2          1404674  2020-04-22  90324B0EE445\n3          1439347  2020-04-24  90324B36BE3E\n4          2164448  2020-05-16  08674EF3A0DB\n...            ...         ...           ...\n663589      630642  2020-04-20  B046FCBB6D64\n663590     1664259  2020-05-04  D89C67A94542\n663591     1554501  2020-04-16  DCA2664E65D6\n663592     2463517  2020-04-30  E86F3810E6CA\n663593     2228077  2020-05-17  E4AB891BF11B\n\n[663594 rows x 3 columns]",
      "text/html": "<div>\n<style scoped>\n    .dataframe tbody tr th:only-of-type {\n        vertical-align: middle;\n    }\n\n    .dataframe tbody tr th {\n        vertical-align: top;\n    }\n\n    .dataframe thead th {\n        text-align: right;\n    }\n</style>\n<table border=\"1\" class=\"dataframe\">\n  <thead>\n    <tr style=\"text-align: right;\">\n      <th></th>\n      <th>CustomerID</th>\n      <th>Date</th>\n      <th>Mac</th>\n    </tr>\n  </thead>\n  <tbody>\n    <tr>\n      <th>0</th>\n      <td>378250</td>\n      <td>2020-04-12</td>\n      <td>B046FCB46C3A</td>\n    </tr>\n    <tr>\n      <th>1</th>\n      <td>1636894</td>\n      <td>2020-04-19</td>\n      <td>DCA26622E8BD</td>\n    </tr>\n    <tr>\n      <th>2</th>\n      <td>1404674</td>\n      <td>2020-04-22</td>\n      <td>90324B0EE445</td>\n    </tr>\n    <tr>\n      <th>3</th>\n      <td>1439347</td>\n      <td>2020-04-24</td>\n      <td>90324B36BE3E</td>\n    </tr>\n    <tr>\n      <th>4</th>\n      <td>2164448</td>\n      <td>2020-05-16</td>\n      <td>08674EF3A0DB</td>\n    </tr>\n    <tr>\n      <th>...</th>\n      <td>...</td>\n      <td>...</td>\n      <td>...</td>\n    </tr>\n    <tr>\n      <th>663589</th>\n      <td>630642</td>\n      <td>2020-04-20</td>\n      <td>B046FCBB6D64</td>\n    </tr>\n    <tr>\n      <th>663590</th>\n      <td>1664259</td>\n      <td>2020-05-04</td>\n      <td>D89C67A94542</td>\n    </tr>\n    <tr>\n      <th>663591</th>\n      <td>1554501</td>\n      <td>2020-04-16</td>\n      <td>DCA2664E65D6</td>\n    </tr>\n    <tr>\n      <th>663592</th>\n      <td>2463517</td>\n      <td>2020-04-30</td>\n      <td>E86F3810E6CA</td>\n    </tr>\n    <tr>\n      <th>663593</th>\n      <td>2228077</td>\n      <td>2020-05-17</td>\n      <td>E4AB891BF11B</td>\n    </tr>\n  </tbody>\n</table>\n<p>663594 rows × 3 columns</p>\n</div>"
     },
     "execution_count": 16,
     "metadata": {},
     "output_type": "execute_result"
    }
   ],
   "source": [
    "log_GetDRM = pd.read_csv(\"C:\\Bi\\Win Backup\\LongDA\\Lvl1\\Class4 KeyDRM Project\\Log_Get_DRM_List.csv\")\n",
    "log_GetDRM"
   ],
   "metadata": {
    "collapsed": false,
    "ExecuteTime": {
     "end_time": "2024-04-02T15:26:23.315120Z",
     "start_time": "2024-04-02T15:26:23.010287Z"
    }
   },
   "id": "d71b197768e87e73",
   "execution_count": 16
  },
  {
   "cell_type": "code",
   "outputs": [
    {
     "data": {
      "text/plain": "         Date  CustomerID\n0  2020-04-03       13877\n1  2020-04-04       14289\n2  2020-04-05       14455\n3  2020-04-06       12990\n4  2020-04-07       12956\n5  2020-04-08       12785\n6  2020-04-09       12562\n7  2020-04-10       12396\n8  2020-04-11       13119\n9  2020-04-12       13322\n10 2020-04-13       12526\n11 2020-04-14       12149\n12 2020-04-15       12171\n13 2020-04-16       12049\n14 2020-04-17       12041\n15 2020-04-18       12520\n16 2020-04-19       12800\n17 2020-04-20       11761\n18 2020-04-21       11752\n19 2020-04-22       11529\n20 2020-04-23       11424\n21 2020-04-24       11563\n22 2020-04-25       12097\n23 2020-04-26       12262\n24 2020-04-27       10931\n25 2020-04-28       10654\n26 2020-04-29       10586\n27 2020-04-30       10411\n28 2020-05-01        9079\n29 2020-05-02        9527\n30 2020-05-03       10736\n31 2020-05-04        9744\n32 2020-05-05        9327\n33 2020-05-06        9214\n34 2020-05-07        8799\n35 2020-05-08        9058\n36 2020-05-09        9767\n37 2020-05-10       10129\n38 2020-05-11        9268\n39 2020-05-12        8969\n40 2020-05-13        9569\n41 2020-05-14        9538\n42 2020-05-15        9363\n43 2020-05-16       12056\n44 2020-05-17       11892\n45 2020-05-18        9892\n46 2020-05-19        9405\n47 2020-05-20        9315\n48 2020-05-21        8844\n49 2020-05-22        9032\n50 2020-05-23       12367\n51 2020-05-24       12046\n52 2020-05-25       10136\n53 2020-05-26        9708\n54 2020-05-27        9662\n55 2020-05-28        9340\n56 2020-05-29        9292\n57 2020-05-30       11610\n58 2020-05-31       11346\n59 2020-06-01        9089",
      "text/html": "<div>\n<style scoped>\n    .dataframe tbody tr th:only-of-type {\n        vertical-align: middle;\n    }\n\n    .dataframe tbody tr th {\n        vertical-align: top;\n    }\n\n    .dataframe thead th {\n        text-align: right;\n    }\n</style>\n<table border=\"1\" class=\"dataframe\">\n  <thead>\n    <tr style=\"text-align: right;\">\n      <th></th>\n      <th>Date</th>\n      <th>CustomerID</th>\n    </tr>\n  </thead>\n  <tbody>\n    <tr>\n      <th>0</th>\n      <td>2020-04-03</td>\n      <td>13877</td>\n    </tr>\n    <tr>\n      <th>1</th>\n      <td>2020-04-04</td>\n      <td>14289</td>\n    </tr>\n    <tr>\n      <th>2</th>\n      <td>2020-04-05</td>\n      <td>14455</td>\n    </tr>\n    <tr>\n      <th>3</th>\n      <td>2020-04-06</td>\n      <td>12990</td>\n    </tr>\n    <tr>\n      <th>4</th>\n      <td>2020-04-07</td>\n      <td>12956</td>\n    </tr>\n    <tr>\n      <th>5</th>\n      <td>2020-04-08</td>\n      <td>12785</td>\n    </tr>\n    <tr>\n      <th>6</th>\n      <td>2020-04-09</td>\n      <td>12562</td>\n    </tr>\n    <tr>\n      <th>7</th>\n      <td>2020-04-10</td>\n      <td>12396</td>\n    </tr>\n    <tr>\n      <th>8</th>\n      <td>2020-04-11</td>\n      <td>13119</td>\n    </tr>\n    <tr>\n      <th>9</th>\n      <td>2020-04-12</td>\n      <td>13322</td>\n    </tr>\n    <tr>\n      <th>10</th>\n      <td>2020-04-13</td>\n      <td>12526</td>\n    </tr>\n    <tr>\n      <th>11</th>\n      <td>2020-04-14</td>\n      <td>12149</td>\n    </tr>\n    <tr>\n      <th>12</th>\n      <td>2020-04-15</td>\n      <td>12171</td>\n    </tr>\n    <tr>\n      <th>13</th>\n      <td>2020-04-16</td>\n      <td>12049</td>\n    </tr>\n    <tr>\n      <th>14</th>\n      <td>2020-04-17</td>\n      <td>12041</td>\n    </tr>\n    <tr>\n      <th>15</th>\n      <td>2020-04-18</td>\n      <td>12520</td>\n    </tr>\n    <tr>\n      <th>16</th>\n      <td>2020-04-19</td>\n      <td>12800</td>\n    </tr>\n    <tr>\n      <th>17</th>\n      <td>2020-04-20</td>\n      <td>11761</td>\n    </tr>\n    <tr>\n      <th>18</th>\n      <td>2020-04-21</td>\n      <td>11752</td>\n    </tr>\n    <tr>\n      <th>19</th>\n      <td>2020-04-22</td>\n      <td>11529</td>\n    </tr>\n    <tr>\n      <th>20</th>\n      <td>2020-04-23</td>\n      <td>11424</td>\n    </tr>\n    <tr>\n      <th>21</th>\n      <td>2020-04-24</td>\n      <td>11563</td>\n    </tr>\n    <tr>\n      <th>22</th>\n      <td>2020-04-25</td>\n      <td>12097</td>\n    </tr>\n    <tr>\n      <th>23</th>\n      <td>2020-04-26</td>\n      <td>12262</td>\n    </tr>\n    <tr>\n      <th>24</th>\n      <td>2020-04-27</td>\n      <td>10931</td>\n    </tr>\n    <tr>\n      <th>25</th>\n      <td>2020-04-28</td>\n      <td>10654</td>\n    </tr>\n    <tr>\n      <th>26</th>\n      <td>2020-04-29</td>\n      <td>10586</td>\n    </tr>\n    <tr>\n      <th>27</th>\n      <td>2020-04-30</td>\n      <td>10411</td>\n    </tr>\n    <tr>\n      <th>28</th>\n      <td>2020-05-01</td>\n      <td>9079</td>\n    </tr>\n    <tr>\n      <th>29</th>\n      <td>2020-05-02</td>\n      <td>9527</td>\n    </tr>\n    <tr>\n      <th>30</th>\n      <td>2020-05-03</td>\n      <td>10736</td>\n    </tr>\n    <tr>\n      <th>31</th>\n      <td>2020-05-04</td>\n      <td>9744</td>\n    </tr>\n    <tr>\n      <th>32</th>\n      <td>2020-05-05</td>\n      <td>9327</td>\n    </tr>\n    <tr>\n      <th>33</th>\n      <td>2020-05-06</td>\n      <td>9214</td>\n    </tr>\n    <tr>\n      <th>34</th>\n      <td>2020-05-07</td>\n      <td>8799</td>\n    </tr>\n    <tr>\n      <th>35</th>\n      <td>2020-05-08</td>\n      <td>9058</td>\n    </tr>\n    <tr>\n      <th>36</th>\n      <td>2020-05-09</td>\n      <td>9767</td>\n    </tr>\n    <tr>\n      <th>37</th>\n      <td>2020-05-10</td>\n      <td>10129</td>\n    </tr>\n    <tr>\n      <th>38</th>\n      <td>2020-05-11</td>\n      <td>9268</td>\n    </tr>\n    <tr>\n      <th>39</th>\n      <td>2020-05-12</td>\n      <td>8969</td>\n    </tr>\n    <tr>\n      <th>40</th>\n      <td>2020-05-13</td>\n      <td>9569</td>\n    </tr>\n    <tr>\n      <th>41</th>\n      <td>2020-05-14</td>\n      <td>9538</td>\n    </tr>\n    <tr>\n      <th>42</th>\n      <td>2020-05-15</td>\n      <td>9363</td>\n    </tr>\n    <tr>\n      <th>43</th>\n      <td>2020-05-16</td>\n      <td>12056</td>\n    </tr>\n    <tr>\n      <th>44</th>\n      <td>2020-05-17</td>\n      <td>11892</td>\n    </tr>\n    <tr>\n      <th>45</th>\n      <td>2020-05-18</td>\n      <td>9892</td>\n    </tr>\n    <tr>\n      <th>46</th>\n      <td>2020-05-19</td>\n      <td>9405</td>\n    </tr>\n    <tr>\n      <th>47</th>\n      <td>2020-05-20</td>\n      <td>9315</td>\n    </tr>\n    <tr>\n      <th>48</th>\n      <td>2020-05-21</td>\n      <td>8844</td>\n    </tr>\n    <tr>\n      <th>49</th>\n      <td>2020-05-22</td>\n      <td>9032</td>\n    </tr>\n    <tr>\n      <th>50</th>\n      <td>2020-05-23</td>\n      <td>12367</td>\n    </tr>\n    <tr>\n      <th>51</th>\n      <td>2020-05-24</td>\n      <td>12046</td>\n    </tr>\n    <tr>\n      <th>52</th>\n      <td>2020-05-25</td>\n      <td>10136</td>\n    </tr>\n    <tr>\n      <th>53</th>\n      <td>2020-05-26</td>\n      <td>9708</td>\n    </tr>\n    <tr>\n      <th>54</th>\n      <td>2020-05-27</td>\n      <td>9662</td>\n    </tr>\n    <tr>\n      <th>55</th>\n      <td>2020-05-28</td>\n      <td>9340</td>\n    </tr>\n    <tr>\n      <th>56</th>\n      <td>2020-05-29</td>\n      <td>9292</td>\n    </tr>\n    <tr>\n      <th>57</th>\n      <td>2020-05-30</td>\n      <td>11610</td>\n    </tr>\n    <tr>\n      <th>58</th>\n      <td>2020-05-31</td>\n      <td>11346</td>\n    </tr>\n    <tr>\n      <th>59</th>\n      <td>2020-06-01</td>\n      <td>9089</td>\n    </tr>\n  </tbody>\n</table>\n</div>"
     },
     "execution_count": 17,
     "metadata": {},
     "output_type": "execute_result"
    }
   ],
   "source": [
    "log_GetDRM.dropna(inplace = True)\n",
    "log_GetDRM['Date'] = pd.to_datetime(log_GetDRM['Date'])\n",
    "log_GetDRM = log_GetDRM.groupby('Date')['CustomerID'].nunique().reset_index()\n",
    "log_GetDRM"
   ],
   "metadata": {
    "collapsed": false,
    "ExecuteTime": {
     "end_time": "2024-04-02T15:26:51.097729Z",
     "start_time": "2024-04-02T15:26:50.627464Z"
    }
   },
   "id": "30de48f126e190e3",
   "execution_count": 17
  },
  {
   "cell_type": "code",
   "outputs": [
    {
     "data": {
      "text/plain": "          Date  CustomerBHD  CustomerFimplus  CustomerPhimGoi\n0   2019-05-01           93             4520                0\n1   2019-05-02           68             3780                0\n2   2019-05-03           73             4092                0\n3   2019-05-04           89             4522                0\n4   2019-05-05           83             4567                0\n..         ...          ...              ...              ...\n393 2020-05-28          521                0             9340\n394 2020-05-29          560                0             9292\n395 2020-05-30          583                0            11610\n396 2020-05-31          540                0            11346\n397 2020-06-01            0                0             9089\n\n[398 rows x 4 columns]",
      "text/html": "<div>\n<style scoped>\n    .dataframe tbody tr th:only-of-type {\n        vertical-align: middle;\n    }\n\n    .dataframe tbody tr th {\n        vertical-align: top;\n    }\n\n    .dataframe thead th {\n        text-align: right;\n    }\n</style>\n<table border=\"1\" class=\"dataframe\">\n  <thead>\n    <tr style=\"text-align: right;\">\n      <th></th>\n      <th>Date</th>\n      <th>CustomerBHD</th>\n      <th>CustomerFimplus</th>\n      <th>CustomerPhimGoi</th>\n    </tr>\n  </thead>\n  <tbody>\n    <tr>\n      <th>0</th>\n      <td>2019-05-01</td>\n      <td>93</td>\n      <td>4520</td>\n      <td>0</td>\n    </tr>\n    <tr>\n      <th>1</th>\n      <td>2019-05-02</td>\n      <td>68</td>\n      <td>3780</td>\n      <td>0</td>\n    </tr>\n    <tr>\n      <th>2</th>\n      <td>2019-05-03</td>\n      <td>73</td>\n      <td>4092</td>\n      <td>0</td>\n    </tr>\n    <tr>\n      <th>3</th>\n      <td>2019-05-04</td>\n      <td>89</td>\n      <td>4522</td>\n      <td>0</td>\n    </tr>\n    <tr>\n      <th>4</th>\n      <td>2019-05-05</td>\n      <td>83</td>\n      <td>4567</td>\n      <td>0</td>\n    </tr>\n    <tr>\n      <th>...</th>\n      <td>...</td>\n      <td>...</td>\n      <td>...</td>\n      <td>...</td>\n    </tr>\n    <tr>\n      <th>393</th>\n      <td>2020-05-28</td>\n      <td>521</td>\n      <td>0</td>\n      <td>9340</td>\n    </tr>\n    <tr>\n      <th>394</th>\n      <td>2020-05-29</td>\n      <td>560</td>\n      <td>0</td>\n      <td>9292</td>\n    </tr>\n    <tr>\n      <th>395</th>\n      <td>2020-05-30</td>\n      <td>583</td>\n      <td>0</td>\n      <td>11610</td>\n    </tr>\n    <tr>\n      <th>396</th>\n      <td>2020-05-31</td>\n      <td>540</td>\n      <td>0</td>\n      <td>11346</td>\n    </tr>\n    <tr>\n      <th>397</th>\n      <td>2020-06-01</td>\n      <td>0</td>\n      <td>0</td>\n      <td>9089</td>\n    </tr>\n  </tbody>\n</table>\n<p>398 rows × 4 columns</p>\n</div>"
     },
     "execution_count": 33,
     "metadata": {},
     "output_type": "execute_result"
    }
   ],
   "source": [
    "DRM = BHD_1.merge(Fimplus_1, on = 'Date', how = 'outer').merge(log_GetDRM, on = 'Date', how = 'outer')\n",
    "DRM.fillna(0, inplace = True)\n",
    "DRM.rename(columns = {'CustomerID_x':'CustomerBHD','CustomerID_y':'CustomerFimplus','CustomerID':'CustomerPhimGoi'},inplace = True)\n",
    "DRM['CustomerBHD'] = DRM['CustomerBHD'].astype(int)\n",
    "DRM['CustomerFimplus'] = DRM['CustomerFimplus'].astype(int)\n",
    "DRM['CustomerPhimGoi'] = DRM['CustomerPhimGoi'].astype(int)\n",
    "DRM"
   ],
   "metadata": {
    "collapsed": false,
    "ExecuteTime": {
     "end_time": "2024-04-02T15:44:08.536963Z",
     "start_time": "2024-04-02T15:44:08.520190Z"
    }
   },
   "id": "2b39c0e300643345",
   "execution_count": 33
  },
  {
   "cell_type": "code",
   "outputs": [],
   "source": [
    "DRM.to_csv('KeyDRM_python.csv', index = False)"
   ],
   "metadata": {
    "collapsed": false,
    "ExecuteTime": {
     "end_time": "2024-04-02T15:45:04.331626Z",
     "start_time": "2024-04-02T15:45:04.324553Z"
    }
   },
   "id": "5bd61ef0eb2ce515",
   "execution_count": 34
  }
 ],
 "metadata": {
  "kernelspec": {
   "display_name": "Python 3",
   "language": "python",
   "name": "python3"
  },
  "language_info": {
   "codemirror_mode": {
    "name": "ipython",
    "version": 2
   },
   "file_extension": ".py",
   "mimetype": "text/x-python",
   "name": "python",
   "nbconvert_exporter": "python",
   "pygments_lexer": "ipython2",
   "version": "2.7.6"
  }
 },
 "nbformat": 4,
 "nbformat_minor": 5
}
